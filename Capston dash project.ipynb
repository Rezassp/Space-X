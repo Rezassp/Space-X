{
 "cells": [
  {
   "cell_type": "code",
   "execution_count": 1,
   "id": "7ec5be44",
   "metadata": {},
   "outputs": [],
   "source": [
    "import pandas as pd\n",
    "import plotly.express as px\n",
    "import dash\n",
    "from dash import Dash, dcc, html, Input, Output,callback"
   ]
  },
  {
   "cell_type": "code",
   "execution_count": 2,
   "id": "4a38e983",
   "metadata": {},
   "outputs": [
    {
     "data": {
      "text/html": [
       "<div>\n",
       "<style scoped>\n",
       "    .dataframe tbody tr th:only-of-type {\n",
       "        vertical-align: middle;\n",
       "    }\n",
       "\n",
       "    .dataframe tbody tr th {\n",
       "        vertical-align: top;\n",
       "    }\n",
       "\n",
       "    .dataframe thead th {\n",
       "        text-align: right;\n",
       "    }\n",
       "</style>\n",
       "<table border=\"1\" class=\"dataframe\">\n",
       "  <thead>\n",
       "    <tr style=\"text-align: right;\">\n",
       "      <th></th>\n",
       "      <th>Unnamed: 0</th>\n",
       "      <th>Flight Number</th>\n",
       "      <th>Launch Site</th>\n",
       "      <th>class</th>\n",
       "      <th>Payload Mass (kg)</th>\n",
       "      <th>Booster Version</th>\n",
       "      <th>Booster Version Category</th>\n",
       "    </tr>\n",
       "  </thead>\n",
       "  <tbody>\n",
       "    <tr>\n",
       "      <th>0</th>\n",
       "      <td>0</td>\n",
       "      <td>1</td>\n",
       "      <td>CCAFS LC-40</td>\n",
       "      <td>0</td>\n",
       "      <td>0.0</td>\n",
       "      <td>F9 v1.0  B0003</td>\n",
       "      <td>v1.0</td>\n",
       "    </tr>\n",
       "    <tr>\n",
       "      <th>1</th>\n",
       "      <td>1</td>\n",
       "      <td>2</td>\n",
       "      <td>CCAFS LC-40</td>\n",
       "      <td>0</td>\n",
       "      <td>0.0</td>\n",
       "      <td>F9 v1.0  B0004</td>\n",
       "      <td>v1.0</td>\n",
       "    </tr>\n",
       "    <tr>\n",
       "      <th>2</th>\n",
       "      <td>2</td>\n",
       "      <td>3</td>\n",
       "      <td>CCAFS LC-40</td>\n",
       "      <td>0</td>\n",
       "      <td>525.0</td>\n",
       "      <td>F9 v1.0  B0005</td>\n",
       "      <td>v1.0</td>\n",
       "    </tr>\n",
       "    <tr>\n",
       "      <th>3</th>\n",
       "      <td>3</td>\n",
       "      <td>4</td>\n",
       "      <td>CCAFS LC-40</td>\n",
       "      <td>0</td>\n",
       "      <td>500.0</td>\n",
       "      <td>F9 v1.0  B0006</td>\n",
       "      <td>v1.0</td>\n",
       "    </tr>\n",
       "    <tr>\n",
       "      <th>4</th>\n",
       "      <td>4</td>\n",
       "      <td>5</td>\n",
       "      <td>CCAFS LC-40</td>\n",
       "      <td>0</td>\n",
       "      <td>677.0</td>\n",
       "      <td>F9 v1.0  B0007</td>\n",
       "      <td>v1.0</td>\n",
       "    </tr>\n",
       "  </tbody>\n",
       "</table>\n",
       "</div>"
      ],
      "text/plain": [
       "   Unnamed: 0  Flight Number  Launch Site  class  Payload Mass (kg)  \\\n",
       "0           0              1  CCAFS LC-40      0                0.0   \n",
       "1           1              2  CCAFS LC-40      0                0.0   \n",
       "2           2              3  CCAFS LC-40      0              525.0   \n",
       "3           3              4  CCAFS LC-40      0              500.0   \n",
       "4           4              5  CCAFS LC-40      0              677.0   \n",
       "\n",
       "  Booster Version Booster Version Category  \n",
       "0  F9 v1.0  B0003                     v1.0  \n",
       "1  F9 v1.0  B0004                     v1.0  \n",
       "2  F9 v1.0  B0005                     v1.0  \n",
       "3  F9 v1.0  B0006                     v1.0  \n",
       "4  F9 v1.0  B0007                     v1.0  "
      ]
     },
     "execution_count": 2,
     "metadata": {},
     "output_type": "execute_result"
    }
   ],
   "source": [
    "df=pd.read_csv(\"https://cf-courses-data.s3.us.cloud-object-storage.appdomain.cloud/IBM-DS0321EN-SkillsNetwork/datasets/spacex_launch_dash.csv\")\n",
    "df.head()"
   ]
  },
  {
   "cell_type": "code",
   "execution_count": 3,
   "id": "0d6455b8",
   "metadata": {},
   "outputs": [
    {
     "data": {
      "text/plain": [
       "['CCAFS LC-40', 'VAFB SLC-4E', 'KSC LC-39A', 'CCAFS SLC-40', 'All']"
      ]
     },
     "execution_count": 3,
     "metadata": {},
     "output_type": "execute_result"
    }
   ],
   "source": [
    "lunch_site=list(df['Launch Site'].unique())\n",
    "lunch_site.append(\"All\")\n",
    "lunch_site"
   ]
  },
  {
   "cell_type": "code",
   "execution_count": 4,
   "id": "ade03bd0",
   "metadata": {},
   "outputs": [],
   "source": [
    "Payload_max=df['Payload Mass (kg)'].max()\n",
    "Payload_min=df['Payload Mass (kg)'].min()"
   ]
  },
  {
   "cell_type": "code",
   "execution_count": 5,
   "id": "e9b0ba6f",
   "metadata": {},
   "outputs": [],
   "source": [
    "app=dash.Dash(__name__)\n",
    "\n",
    "app.layout=html.Div(children=[html.H1('SpaceX Launch Records Dashboard',style={'testAlighn':'cetnter'})\n",
    "                    ,html.Div(['Select Launch site:',dcc.Dropdown(lunch_site,'All',id='Lunch_site')])\n",
    "                    ,html.Div([html.Div(dcc.Graph(id='Success_plot'))])                \n",
    "                    ,html.Div(['Payload mass:',dcc.RangeSlider(min=Payload_min,max=Payload_max,value=[Payload_min,Payload_max],id='payload')])\n",
    "                    ,html.Div([html.Div(dcc.Graph(id='payload-plot'))])\n",
    "                                  ])"
   ]
  },
  {
   "cell_type": "code",
   "execution_count": 6,
   "id": "7578b8fb",
   "metadata": {},
   "outputs": [],
   "source": [
    "@app.callback([Output(component_id='Success_plot', component_property='figure')],\n",
    "              Input(component_id='Lunch_site', component_property='value')\n",
    "             )\n",
    "\n",
    "def my_pie(site_name):\n",
    "    if site_name=='All':\n",
    "        pie_fig=px.pie(data_frame=df,names='class')\n",
    "    else:\n",
    "        pie_fig=px.pie(data_frame=df[df['Launch Site']==site_name],names='class')\n",
    "    return [pie_fig]\n",
    "\n",
    "    \n"
   ]
  },
  {
   "cell_type": "code",
   "execution_count": 7,
   "id": "0a38c939",
   "metadata": {},
   "outputs": [],
   "source": [
    "@app.callback([Output(component_id='payload-plot', component_property='figure')],\n",
    "              [Input(component_id='Lunch_site', component_property='value'),\n",
    "               Input(component_id='payload', component_property='value')]\n",
    "             )\n",
    "\n",
    "def my_payload(site_name,load):\n",
    "    min_load,max_load=load\n",
    "    if site_name=='All':\n",
    "        payload_fig=px.scatter(df[(df['Payload Mass (kg)']>=min_load) & (df['Payload Mass (kg)']<=max_load)],x='Payload Mass (kg)',y='class',color='Booster Version')\n",
    "        \n",
    "    else:\n",
    "        payload_fig=px.scatter(df[(df['Launch Site']==site_name) & (df['Payload Mass (kg)']>=min_load) & (df['Payload Mass (kg)']<=max_load)],x='Payload Mass (kg)',y='class',color='Booster Version')\n",
    "    payload_fig.update_layout(yaxis=dict(tickvals=[0, 1]))\n",
    "    return [payload_fig]"
   ]
  },
  {
   "cell_type": "code",
   "execution_count": 8,
   "id": "5de321f0",
   "metadata": {
    "scrolled": false
   },
   "outputs": [
    {
     "data": {
      "text/html": [
       "\n",
       "        <iframe\n",
       "            width=\"100%\"\n",
       "            height=\"650\"\n",
       "            src=\"http://127.0.0.1:8050/\"\n",
       "            frameborder=\"0\"\n",
       "            allowfullscreen\n",
       "            \n",
       "        ></iframe>\n",
       "        "
      ],
      "text/plain": [
       "<IPython.lib.display.IFrame at 0x2608621ba10>"
      ]
     },
     "metadata": {},
     "output_type": "display_data"
    }
   ],
   "source": [
    "if __name__=='__main__':\n",
    "    app.run_server(debug=True)"
   ]
  }
 ],
 "metadata": {
  "kernelspec": {
   "display_name": "Python 3 (ipykernel)",
   "language": "python",
   "name": "python3"
  },
  "language_info": {
   "codemirror_mode": {
    "name": "ipython",
    "version": 3
   },
   "file_extension": ".py",
   "mimetype": "text/x-python",
   "name": "python",
   "nbconvert_exporter": "python",
   "pygments_lexer": "ipython3",
   "version": "3.11.5"
  }
 },
 "nbformat": 4,
 "nbformat_minor": 5
}
